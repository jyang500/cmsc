{
  "nbformat": 4,
  "nbformat_minor": 0,
  "metadata": {
    "colab": {
      "name": "AModel.ipynb",
      "provenance": []
    },
    "kernelspec": {
      "name": "python3",
      "display_name": "Python 3"
    },
    "language_info": {
      "name": "python"
    }
  },
  "cells": [
    {
      "cell_type": "code",
      "metadata": {
        "id": "c4bQrh7KxRSo"
      },
      "source": [
        "class Net(nn.Module):\n",
        "  def __init__(self, numClasses):\n",
        "    super(convDemoNet, self).__init__()\n",
        "     #\n",
        "    self.function4=nn.reshape((28,28,1))\n",
        "    self.funcion5=nn.repeat(5)\n",
        "    self.function5=nn.Conv2d(5,3,padding='same')\n",
        "    self.function6=nn.reshape((28,28,5,))\n",
        "    self.funcion7=nn.Conv2d(5,3)\n",
        "    self.funcion8=nn.Conv2d(5,3)\n",
        "    self.addfunction = self.function7+ self.function8 \n",
        "    self.function9 = nn.MaxPool2d()\n",
        "    self.function10 =nn.Conv2d(5,3)\n",
        "    self.function11=nn.Conv2d(5,3)\n",
        "    self.function12 = nn.MaxPool2d()\n",
        "    self.function13 =nn.Conv2d(5,3)\n",
        "    self.function14=nn.Conv2d(5,3)\n",
        "    self.function15 = nn.MaxPool2d()\n",
        "    self.function16 =nn.Conv2d(5,3)\n",
        "    self.function17=nn.Conv2d(5,3)\n",
        "    self.addfunction2= self.function15 +self.function16\n",
        "    self.dense =nn.dense(10)\n",
        "  def forward(self, x):\n",
        "    a = self.function4(x)\n",
        "    b = self.function5(x)\n",
        "    c = self.fuction6(a)\n",
        "    d =self.function7(b)\n",
        "    e = self.function8(c) \n",
        "    f = self.addfunction(d)(e)\n",
        "    g= self.function9(f)\n",
        "    h = self.function10(g)\n",
        "    i = self.function11(h)\n",
        "    j = self.function12(i)\n",
        "    k =self.function13(j)\n",
        "    l = self.function14(k)\n",
        "    m = self.function15(l)\n",
        "    n = self.function16(m)\n",
        "    o= self.function17(n)\n",
        "    p = self.addfunction2(m)(o)\n",
        "    q = self.flatten(p)\n",
        "    r = self.dense(q)\n",
        "    return r"
      ],
      "execution_count": null,
      "outputs": []
    }
  ]
}