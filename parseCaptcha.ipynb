{
  "nbformat": 4,
  "nbformat_minor": 0,
  "metadata": {
    "kernelspec": {
      "display_name": "Python 3",
      "language": "python",
      "name": "python3"
    },
    "language_info": {
      "codemirror_mode": {
        "name": "ipython",
        "version": 3
      },
      "file_extension": ".py",
      "mimetype": "text/x-python",
      "name": "python",
      "nbconvert_exporter": "python",
      "pygments_lexer": "ipython3",
      "version": "3.7.4"
    },
    "colab": {
      "name": "parseCaptcha.ipynb",
      "provenance": [],
      "include_colab_link": true
    }
  },
  "cells": [
    {
      "cell_type": "markdown",
      "metadata": {
        "id": "view-in-github",
        "colab_type": "text"
      },
      "source": [
        "<a href=\"https://colab.research.google.com/github/jyang500/cmsc/blob/main/parseCaptcha.ipynb\" target=\"_parent\"><img src=\"https://colab.research.google.com/assets/colab-badge.svg\" alt=\"Open In Colab\"/></a>"
      ]
    },
    {
      "cell_type": "code",
      "metadata": {
        "id": "9WwpRXHGr12Q"
      },
      "source": [
        "import os\n",
        "import cv2\n",
        "import numpy as np"
      ],
      "execution_count": null,
      "outputs": []
    },
    {
      "cell_type": "code",
      "metadata": {
        "colab": {
          "base_uri": "https://localhost:8080/"
        },
        "id": "hWS7lf6luGIZ",
        "outputId": "9b49c413-bacd-4d64-f48b-f4e980db7ce1"
      },
      "source": [
        "from google.colab import drive\n",
        "drive.mount('/content/drive')"
      ],
      "execution_count": null,
      "outputs": [
        {
          "output_type": "stream",
          "text": [
            "Mounted at /content/drive\n"
          ],
          "name": "stdout"
        }
      ]
    },
    {
      "cell_type": "code",
      "metadata": {
        "colab": {
          "base_uri": "https://localhost:8080/"
        },
        "id": "tDNcoEsu3EcU",
        "outputId": "27fe27c9-ade6-4132-ba4f-7a00aa3aa59a"
      },
      "source": [
        "!unzip \"/content/drive/MyDrive/Colab Notebooks/captcha1.zip\""
      ],
      "execution_count": null,
      "outputs": [
        {
          "output_type": "stream",
          "text": [
            "Archive:  /content/drive/MyDrive/Colab Notebooks/captcha1.zip\n",
            "replace kaggle/Train/01se.png? [y]es, [n]o, [A]ll, [N]one, [r]ename: A\n",
            "  inflating: kaggle/Train/01se.png   \n",
            "  inflating: kaggle/Train/03a1.png   \n",
            "  inflating: kaggle/Train/04r5.png   \n",
            "  inflating: kaggle/Train/05m4.png   \n",
            "  inflating: kaggle/Train/0b3b.png   \n",
            "  inflating: kaggle/Train/0gvf.png   \n",
            "  inflating: kaggle/Train/0iuj.png   \n",
            "  inflating: kaggle/Train/0k59.png   \n",
            "  inflating: kaggle/Train/0lbv.png   \n",
            "  inflating: kaggle/Train/0tx7.png   \n",
            "  inflating: kaggle/Train/0uai.png   \n",
            "  inflating: kaggle/Train/0wlz.png   \n",
            "  inflating: kaggle/Train/0ws3.png   \n",
            "  inflating: kaggle/Train/124a.png   \n",
            "  inflating: kaggle/Train/12t1.png   \n",
            "  inflating: kaggle/Train/12y1.png   \n",
            "  inflating: kaggle/Train/18si.png   \n",
            "  inflating: kaggle/Train/1dhy.png   \n",
            "  inflating: kaggle/Train/1g53.png   \n",
            "  inflating: kaggle/Train/1hnq.png   \n",
            "  inflating: kaggle/Train/1j08.png   \n",
            "  inflating: kaggle/Train/1lhn.png   \n",
            "  inflating: kaggle/Train/1odm.png   \n",
            "  inflating: kaggle/Train/1plv.png   \n",
            "  inflating: kaggle/Train/1sje.png   \n",
            "  inflating: kaggle/Train/1sq5.png   \n",
            "  inflating: kaggle/Train/1wff.png   \n",
            "  inflating: kaggle/Train/1y13.png   \n",
            "  inflating: kaggle/Train/1z7s.png   \n",
            "  inflating: kaggle/Train/2209.png   \n",
            "  inflating: kaggle/Train/22kf.png   \n",
            "  inflating: kaggle/Train/22pq.png   \n",
            "  inflating: kaggle/Train/240i.png   \n",
            "  inflating: kaggle/Train/262b.png   \n",
            "  inflating: kaggle/Train/28mj.png   \n",
            "  inflating: kaggle/Train/2a8g.png   \n",
            "  inflating: kaggle/Train/2cix.png   \n",
            "  inflating: kaggle/Train/2lfc.png   \n",
            "  inflating: kaggle/Train/2m6c.png   \n",
            "  inflating: kaggle/Train/2n5q.png   \n",
            "  inflating: kaggle/Train/2o7w.png   \n",
            "  inflating: kaggle/Train/2ovo.png   \n",
            "  inflating: kaggle/Train/2qdg.png   \n",
            "  inflating: kaggle/Train/2tvf.png   \n",
            "  inflating: kaggle/Train/2xs8.png   \n",
            "  inflating: kaggle/Train/2zna.png   \n",
            "  inflating: kaggle/Train/30yk.png   \n",
            "  inflating: kaggle/Train/364e.png   \n",
            "  inflating: kaggle/Train/3as1.png   \n",
            "  inflating: kaggle/Train/3djd.png   \n",
            "  inflating: kaggle/Train/3jxh.png   \n",
            "  inflating: kaggle/Train/3l9j.png   \n",
            "  inflating: kaggle/Train/3n8e.png   \n",
            "  inflating: kaggle/Train/3ntu.png   \n",
            "  inflating: kaggle/Train/3o7b.png   \n",
            "  inflating: kaggle/Train/3pl4.png   \n",
            "  inflating: kaggle/Train/3qxy.png   \n",
            "  inflating: kaggle/Train/3t73.png   \n",
            "  inflating: kaggle/Train/3v0j.png   \n",
            "  inflating: kaggle/Train/3w50.png   \n",
            "  inflating: kaggle/Train/3wge.png   \n",
            "  inflating: kaggle/Train/3yig.png   \n",
            "  inflating: kaggle/Train/41nv.png   \n",
            "  inflating: kaggle/Train/44gv.png   \n",
            "  inflating: kaggle/Train/47x1.png   \n",
            "  inflating: kaggle/Train/48aw.png   \n",
            "  inflating: kaggle/Train/4ae6.png   \n",
            "  inflating: kaggle/Train/4htx.png   \n",
            "  inflating: kaggle/Train/4igu.png   \n",
            "  inflating: kaggle/Train/4kaw.png   \n",
            "  inflating: kaggle/Train/4v8d.png   \n",
            "  inflating: kaggle/Train/4xrg.png   \n",
            "  inflating: kaggle/Train/50n0.png   \n",
            "  inflating: kaggle/Train/55yd.png   \n",
            "  inflating: kaggle/Train/562r.png   \n",
            "  inflating: kaggle/Train/5apz.png   \n",
            "  inflating: kaggle/Train/5e1d.png   \n",
            "  inflating: kaggle/Train/5fkv.png   \n",
            "  inflating: kaggle/Train/5kih.png   \n",
            "  inflating: kaggle/Train/5kjh.png   \n",
            "  inflating: kaggle/Train/5l2d.png   \n",
            "  inflating: kaggle/Train/5nlv.png   \n",
            "  inflating: kaggle/Train/5olx.png   \n",
            "  inflating: kaggle/Train/5rbr.png   \n",
            "  inflating: kaggle/Train/5rkz.png   \n",
            "  inflating: kaggle/Train/5w3q.png   \n",
            "  inflating: kaggle/Train/5z77.png   \n",
            "  inflating: kaggle/Train/65ya.png   \n",
            "  inflating: kaggle/Train/68dq.png   \n",
            "  inflating: kaggle/Train/692z.png   \n",
            "  inflating: kaggle/Train/6a99.png   \n",
            "  inflating: kaggle/Train/6g46.png   \n",
            "  inflating: kaggle/Train/6kuf.png   \n",
            "  inflating: kaggle/Train/6lez.png   \n",
            "  inflating: kaggle/Train/6p7b.png   \n",
            "  inflating: kaggle/Train/6tfd.png   \n",
            "  inflating: kaggle/Train/6th4.png   \n",
            "  inflating: kaggle/Train/6ygs.png   \n",
            "  inflating: kaggle/Train/70uh.png   \n",
            "  inflating: kaggle/Train/770l.png   \n",
            "  inflating: kaggle/Train/7c3o.png   \n",
            "  inflating: kaggle/Train/7cbp.png   \n",
            "  inflating: kaggle/Train/7iyb.png   \n",
            "  inflating: kaggle/Train/7owi.png   \n",
            "  inflating: kaggle/Train/7t0a.png   \n",
            "  inflating: kaggle/Train/7te6.png   \n",
            "  inflating: kaggle/Train/7u0l.png   \n",
            "  inflating: kaggle/Train/7v0c.png   \n",
            "  inflating: kaggle/Train/7x1q.png   \n",
            "  inflating: kaggle/Train/7yuf.png   \n",
            "  inflating: kaggle/Train/7zax.png   \n",
            "  inflating: kaggle/Train/83d1.png   \n",
            "  inflating: kaggle/Train/86mj.png   \n",
            "  inflating: kaggle/Train/89at.png   \n",
            "  inflating: kaggle/Train/8arv.png   \n",
            "  inflating: kaggle/Train/8c2u.png   \n",
            "  inflating: kaggle/Train/8d5g.png   \n",
            "  inflating: kaggle/Train/8f7a.png   \n",
            "  inflating: kaggle/Train/8fml.png   \n",
            "  inflating: kaggle/Train/8kg7.png   \n",
            "  inflating: kaggle/Train/8ky0.png   \n",
            "  inflating: kaggle/Train/8m5c.png   \n",
            "  inflating: kaggle/Train/8ov0.png   \n",
            "  inflating: kaggle/Train/8p7n.png   \n",
            "  inflating: kaggle/Train/8pxh.png   \n",
            "  inflating: kaggle/Train/8rz5.png   \n",
            "  inflating: kaggle/Train/8s2c.png   \n",
            "  inflating: kaggle/Train/8top.png   \n",
            "  inflating: kaggle/Train/8v06.png   \n",
            "  inflating: kaggle/Train/8wtl.png   \n",
            "  inflating: kaggle/Train/944s.png   \n",
            "  inflating: kaggle/Train/94ju.png   \n",
            "  inflating: kaggle/Train/96vr.png   \n",
            "  inflating: kaggle/Train/97dw.png   \n",
            "  inflating: kaggle/Train/980s.png   \n",
            "  inflating: kaggle/Train/98dr.png   \n",
            "  inflating: kaggle/Train/9am0.png   \n",
            "  inflating: kaggle/Train/9k1w.png   \n",
            "  inflating: kaggle/Train/9kmq.png   \n",
            "  inflating: kaggle/Train/9o0x.png   \n",
            "  inflating: kaggle/Train/9src.png   \n",
            "  inflating: kaggle/Train/9t0u.png   \n",
            "  inflating: kaggle/Train/9tft.png   \n",
            "  inflating: kaggle/Train/9wsf.png   \n",
            "  inflating: kaggle/Train/9x1i.png   \n",
            "  inflating: kaggle/Train/9x5d.png   \n",
            "  inflating: kaggle/Train/9xxp.png   \n",
            "  inflating: kaggle/Train/9zfd.png   \n",
            "  inflating: kaggle/Train/a3ti.png   \n",
            "  inflating: kaggle/Train/a82l.png   \n",
            "  inflating: kaggle/Train/a8fm.png   \n",
            "  inflating: kaggle/Train/abn1.png   \n",
            "  inflating: kaggle/Train/aeg5.png   \n",
            "  inflating: kaggle/Train/akg7.png   \n",
            "  inflating: kaggle/Train/am3o.png   \n",
            "  inflating: kaggle/Train/amd8.png   \n",
            "  inflating: kaggle/Train/asm3.png   \n",
            "  inflating: kaggle/Train/asp9.png   \n",
            "  inflating: kaggle/Train/awf5.png   \n",
            "  inflating: kaggle/Train/b0ur.png   \n",
            "  inflating: kaggle/Train/b4u1.png   \n",
            "  inflating: kaggle/Train/b5kj.png   \n",
            "  inflating: kaggle/Train/b6ii.png   \n",
            "  inflating: kaggle/Train/bh6r.png   \n",
            "  inflating: kaggle/Train/bj6n.png   \n",
            "  inflating: kaggle/Train/bjr1.png   \n",
            "  inflating: kaggle/Train/bl30.png   \n",
            "  inflating: kaggle/Train/c948.png   \n",
            "  inflating: kaggle/Train/cjo8.png   \n",
            "  inflating: kaggle/Train/co5r.png   \n",
            "  inflating: kaggle/Train/d0ud.png   \n",
            "  inflating: kaggle/Train/d136.png   \n",
            "  inflating: kaggle/Train/d1ag.png   \n",
            "  inflating: kaggle/Train/d1k0.png   \n",
            "  inflating: kaggle/Train/d4gx.png   \n",
            "  inflating: kaggle/Train/d5jk.png   \n",
            "  inflating: kaggle/Train/d97f.png   \n",
            "  inflating: kaggle/Train/dcw3.png   \n",
            "  inflating: kaggle/Train/dd2j.png   \n",
            "  inflating: kaggle/Train/dlf4.png   \n",
            "  inflating: kaggle/Train/dn3c.png   \n",
            "  inflating: kaggle/Train/dns8.png   \n",
            "  inflating: kaggle/Train/dqq1.png   \n",
            "  inflating: kaggle/Train/dst2.png   \n",
            "  inflating: kaggle/Train/dyc4.png   \n",
            "  inflating: kaggle/Train/e60p.png   \n",
            "  inflating: kaggle/Train/ec3j.png   \n",
            "  inflating: kaggle/Train/em21.png   \n",
            "  inflating: kaggle/Train/enx9.png   \n",
            "  inflating: kaggle/Train/f2e1.png   \n",
            "  inflating: kaggle/Train/f45o.png   \n",
            "  inflating: kaggle/Train/f6j1.png   \n",
            "  inflating: kaggle/Train/f82h.png   \n",
            "  inflating: kaggle/Train/fa82.png   \n",
            "  inflating: kaggle/Train/fav1.png   \n",
            "  inflating: kaggle/Train/fis2.png   \n",
            "  inflating: kaggle/Train/fm8l.png   \n",
            "  inflating: kaggle/Train/fq9f.png   \n",
            "  inflating: kaggle/Train/g47e.png   \n",
            "  inflating: kaggle/Train/g8wj.png   \n",
            "  inflating: kaggle/Train/g9m7.png   \n",
            "  inflating: kaggle/Train/gde8.png   \n",
            "  inflating: kaggle/Train/gia7.png   \n",
            "  inflating: kaggle/Train/gs3h.png   \n",
            "  inflating: kaggle/Train/gu2q.png   \n",
            "  inflating: kaggle/Train/gv8n.png   \n",
            "  inflating: kaggle/Train/gym0.png   \n",
            "  inflating: kaggle/Train/gz7y.png   \n",
            "  inflating: kaggle/Train/h0rn.png   \n",
            "  inflating: kaggle/Train/h44a.png   \n",
            "  inflating: kaggle/Train/h5n3.png   \n",
            "  inflating: kaggle/Train/h7v3.png   \n",
            "  inflating: kaggle/Train/h811.png   \n",
            "  inflating: kaggle/Train/h8je.png   \n",
            "  inflating: kaggle/Train/h94e.png   \n",
            "  inflating: kaggle/Train/h9nw.png   \n",
            "  inflating: kaggle/Train/hb5j.png   \n",
            "  inflating: kaggle/Train/hgh5.png   \n",
            "  inflating: kaggle/Train/hlx9.png   \n",
            "  inflating: kaggle/Train/hyj2.png   \n",
            "  inflating: kaggle/Train/i68e.png   \n",
            "  inflating: kaggle/Train/i6lm.png   \n",
            "  inflating: kaggle/Train/i7az.png   \n",
            "  inflating: kaggle/Train/ibm6.png   \n",
            "  inflating: kaggle/Train/ioy0.png   \n",
            "  inflating: kaggle/Train/is2s.png   \n",
            "  inflating: kaggle/Train/izi9.png   \n",
            "  inflating: kaggle/Train/j0on.png   \n",
            "  inflating: kaggle/Train/j12v.png   \n",
            "  inflating: kaggle/Train/j1p5.png   \n",
            "  inflating: kaggle/Train/j2j6.png   \n",
            "  inflating: kaggle/Train/j7no.png   \n",
            "  inflating: kaggle/Train/j81r.png   \n",
            "  inflating: kaggle/Train/j9kg.png   \n",
            "  inflating: kaggle/Train/jfc8.png   \n",
            "  inflating: kaggle/Train/jjx3.png   \n",
            "  inflating: kaggle/Train/jp8k.png   \n",
            "  inflating: kaggle/Train/jux2.png   \n",
            "  inflating: kaggle/Train/jyl4.png   \n",
            "  inflating: kaggle/Train/k4cm.png   \n",
            "  inflating: kaggle/Train/k62k.png   \n",
            "  inflating: kaggle/Train/k931.png   \n",
            "  inflating: kaggle/Train/ka8r.png   \n",
            "  inflating: kaggle/Train/kdg9.png   \n",
            "  inflating: kaggle/Train/kf1n.png   \n",
            "  inflating: kaggle/Train/ki91.png   \n",
            "  inflating: kaggle/Train/klj1.png   \n",
            "  inflating: kaggle/Train/kn2r.png   \n",
            "  inflating: kaggle/Train/kq84.png   \n",
            "  inflating: kaggle/Train/ky76.png   \n",
            "  inflating: kaggle/Train/kyd3.png   \n",
            "  inflating: kaggle/Train/kz7j.png   \n",
            "  inflating: kaggle/Train/l42a.png   \n",
            "  inflating: kaggle/Train/l4g5.png   \n",
            "  inflating: kaggle/Train/l4mz.png   \n",
            "  inflating: kaggle/Train/l63x.png   \n",
            "  inflating: kaggle/Train/l71n.png   \n",
            "  inflating: kaggle/Train/ld0m.png   \n",
            "  inflating: kaggle/Train/ld1l.png   \n",
            "  inflating: kaggle/Train/lnq9.png   \n",
            "  inflating: kaggle/Train/m8jt.png   \n",
            "  inflating: kaggle/Train/m9a4.png   \n",
            "  inflating: kaggle/Train/ma0p.png   \n",
            "  inflating: kaggle/Train/ma8a.png   \n",
            "  inflating: kaggle/Train/mj9j.png   \n",
            "  inflating: kaggle/Train/mw39.png   \n",
            "  inflating: kaggle/Train/n3k3.png   \n",
            "  inflating: kaggle/Train/n7ky.png   \n",
            "  inflating: kaggle/Train/nfj8.png   \n",
            "  inflating: kaggle/Train/ng29.png   \n",
            "  inflating: kaggle/Train/nj1b.png   \n",
            "  inflating: kaggle/Train/njo0.png   \n",
            "  inflating: kaggle/Train/nq8j.png   \n",
            "  inflating: kaggle/Train/nr4x.png   \n",
            "  inflating: kaggle/Train/ns7h.png   \n",
            "  inflating: kaggle/Train/ns91.png   \n",
            "  inflating: kaggle/Train/nx4k.png   \n",
            "  inflating: kaggle/Train/o4y8.png   \n",
            "  inflating: kaggle/Train/o7st.png   \n",
            "  inflating: kaggle/Train/o9q6.png   \n",
            "  inflating: kaggle/Train/oa21.png   \n",
            "  inflating: kaggle/Train/ocq9.png   \n",
            "  inflating: kaggle/Train/oel8.png   \n",
            "  inflating: kaggle/Train/ogvf.png   \n",
            "  inflating: kaggle/Train/pn99.png   \n",
            "  inflating: kaggle/Train/qsi4.png   \n",
            "  inflating: kaggle/Train/s2m2.png   \n",
            "  inflating: kaggle/Train/sk0r.png   \n",
            "  inflating: kaggle/Train/smi8.png   \n",
            "  inflating: kaggle/Train/t8tu.png   \n",
            "  inflating: kaggle/Train/u57w.png   \n",
            "  inflating: kaggle/Train/u7jj.png   \n",
            "  inflating: kaggle/Train/u82e.png   \n",
            "  inflating: kaggle/Train/ud3v.png   \n",
            "  inflating: kaggle/Train/ve1l.png   \n",
            "  inflating: kaggle/Train/vhr6.png   \n",
            "  inflating: kaggle/Train/vj9y.png   \n",
            "  inflating: kaggle/Train/w37f.png   \n",
            "  inflating: kaggle/Train/wf42.png   \n",
            "  inflating: kaggle/Train/x4n6.png   \n",
            "  inflating: kaggle/Train/xq1a.png   \n",
            "  inflating: kaggle/Train/y3pw.png   \n",
            "  inflating: kaggle/Train/ye72.png   \n",
            "  inflating: kaggle/Train/ys9a.png   \n",
            "  inflating: kaggle/Train/yu23.png   \n",
            "  inflating: kaggle/Train/z2gf.png   \n",
            "  inflating: kaggle/Train/z8zt.png   \n"
          ],
          "name": "stdout"
        }
      ]
    },
    {
      "cell_type": "code",
      "metadata": {
        "id": "Iowhk2YRr12W",
        "colab": {
          "base_uri": "https://localhost:8080/"
        },
        "outputId": "739eb0a5-7d9f-4e36-b541-b04f20cde25f"
      },
      "source": [
        "# file combination code modified from dataset page on kaggle\n",
        "# https://www.kaggle.com/famadio/ocr-attempt-keras-open-cv\n",
        "dir = \"kaggle\"\n",
        "train_data = []\n",
        "label = \"\"\n",
        "val_data = []\n",
        "for i in os.listdir(dir):\n",
        "    count = 0\n",
        "    sub_directory = os.path.join(dir,i)\n",
        "    for j in os.listdir(sub_directory):\n",
        "        \n",
        "        count+=1\n",
        "        if count > 100:\n",
        "            break\n",
        "        for x in j:\n",
        "          if (x == '.'):\n",
        "            break\n",
        "          label = label + x\n",
        "        val_data.append(label)\n",
        "        label = \"\"\n",
        "        img = cv2.imread(os.path.join(sub_directory,j),0)\n",
        "        train_data.append([img,i])\n",
        "print(val_data)"
      ],
      "execution_count": null,
      "outputs": [
        {
          "output_type": "stream",
          "text": [
            "['7zax', '0ws3', 'a82l', '0k59', 'j0on', 'bh6r', '2o7w', 'h94e', '03a1', '3w50', 'gym0', 'ka8r', '8kg7', 'fa82', '7v0c', '2a8g', '8c2u', '98dr', '8top', 'hgh5', 'nx4k', 'fav1', '3t73', 'l71n', '2cix', '4xrg', 'ma8a', 'vj9y', '01se', '8wtl', '9x1i', 'jjx3', 'j2j6', '2lfc', 'b5kj', 'j1p5', 'y3pw', 'cjo8', '89at', '6p7b', 'sk0r', 'f6j1', 'hb5j', 'dqq1', '124a', 'd1ag', 'akg7', 'ns91', 'i6lm', 'h5n3', 'yu23', 'gde8', '0uai', '65ya', '5fkv', '8s2c', 'ns7h', 'n7ky', '1hnq', 'abn1', '262b', 'pn99', '0lbv', 'aeg5', 'k931', '1y13', 'vhr6', '0b3b', '6kuf', 'h8je', 'oel8', 'j7no', '70uh', '1odm', '28mj', 'nfj8', '9tft', '8m5c', '9kmq', 'd136', '2m6c', '18si', 'fm8l', 'hlx9', 'b6ii', 'o9q6', 'bjr1', 'gz7y', '4htx', '4v8d', 'b4u1', 'ky76', 'oa21', '7owi', 'bj6n', 'gv8n', '4igu', 'f2e1', '22pq', '7yuf', '7zax', '0ws3', 'a82l', '0k59', 'j0on', 'bh6r', '2o7w', 'h94e', '03a1', '3w50', 'gym0', 'ka8r', '8kg7', 'fa82', '7v0c', '2a8g', '8c2u', '98dr', '8top', 'hgh5', 'nx4k', 'fav1', '3t73', 'l71n', '2cix', '4xrg', 'ma8a', 'vj9y', '01se', '8wtl', '9x1i', 'jjx3', 'j2j6', '2lfc', 'b5kj', 'j1p5', 'y3pw', 'cjo8', '89at', '6p7b', 'sk0r', 'f6j1', 'hb5j', 'dqq1', '124a', 'd1ag', 'akg7', 'ns91', 'i6lm', 'h5n3', 'yu23', 'gde8', '0uai', '65ya', '5fkv', '8s2c', 'ns7h', 'n7ky', '1hnq', 'abn1', '262b', 'pn99', '0lbv', 'aeg5', 'k931', '1y13', 'vhr6', '0b3b', '6kuf', 'h8je', 'oel8', 'j7no', '70uh', '1odm', '28mj', 'nfj8', '9tft', '8m5c', '9kmq', 'd136', '2m6c', '18si', 'fm8l', 'hlx9', 'b6ii', 'o9q6', 'bjr1', 'gz7y', '4htx', '4v8d', 'b4u1', 'ky76', 'oa21', '7owi', 'bj6n', 'gv8n', '4igu', 'f2e1', '22pq', '7yuf', '7zax', '0ws3', 'a82l', '0k59', 'j0on', 'bh6r', '2o7w', 'h94e', '03a1', '3w50', 'gym0', 'ka8r', '8kg7', 'fa82', '7v0c', '2a8g', '8c2u', '98dr', '8top', 'hgh5', 'nx4k', 'fav1', '3t73', 'l71n', '2cix', '4xrg', 'ma8a', 'vj9y', '01se', '8wtl', '9x1i', 'jjx3', 'j2j6', '2lfc', 'b5kj', 'j1p5', 'y3pw', 'cjo8', '89at', '6p7b', 'sk0r', 'f6j1', 'hb5j', 'dqq1', '124a', 'd1ag', 'akg7', 'ns91', 'i6lm', 'h5n3', 'yu23', 'gde8', '0uai', '65ya', '5fkv', '8s2c', 'ns7h', 'n7ky', '1hnq', 'abn1', '262b', 'pn99', '0lbv', 'aeg5', 'k931', '1y13', 'vhr6', '0b3b', '6kuf', 'h8je', 'oel8', 'j7no', '70uh', '1odm', '28mj', 'nfj8', '9tft', '8m5c', '9kmq', 'd136', '2m6c', '18si', 'fm8l', 'hlx9', 'b6ii', 'o9q6', 'bjr1', 'gz7y', '4htx', '4v8d', 'b4u1', 'ky76', 'oa21', '7owi', 'bj6n', 'gv8n', '4igu', 'f2e1', '22pq', '7yuf', '262b', '0b3b', 'ng29', '9am0', 'z2gf', 'x4n6', 'tpy1', 'kz7j', 'x71g', 'h9nw', 'c5qf', 'f350', '1z7s', 'is2s', '7zax', '0ws3', 'a82l', '0k59', 'j0on', 'bh6r', '2o7w', 'h94e', '03a1', '3w50', 'gym0', 'ka8r', '8kg7', 'fa82', '7v0c', '2a8g', '8c2u', '98dr', '8top', 'hgh5', 'nx4k', 'fav1', '3t73', 'l71n', '2cix', '4xrg', 'ma8a', 'vj9y', '01se', '8wtl', '9x1i', 'jjx3', 'j2j6', '2lfc', 'b5kj', 'j1p5', 'y3pw', 'cjo8', '89at', '6p7b', 'sk0r', 'f6j1', 'hb5j', 'dqq1', '124a', 'd1ag', 'akg7', 'ns91', 'i6lm', 'h5n3', 'yu23', 'gde8', '0uai', '65ya', '5fkv', '8s2c', 'ns7h', 'n7ky', '1hnq', 'abn1', '262b', 'pn99', '0lbv', 'aeg5', 'k931', '1y13', 'vhr6', '0b3b', '6kuf', 'h8je', 'oel8', 'j7no', '70uh', '1odm', '28mj', 'nfj8', '9tft', '8m5c', '9kmq', 'd136', '2m6c', '18si', 'fm8l', 'hlx9', 'b6ii', 'o9q6', 'bjr1', 'gz7y', '4htx', '4v8d', 'b4u1', 'ky76', 'oa21', '7owi', 'bj6n', 'gv8n', '4igu', 'f2e1', '22pq', '7yuf', 'captcha_mod2_41', 'captcha_mod2_45', 'captcha_mod2_44', 'captcha_mod2_40', 'captcha_mod2_49', 'captcha_mod2_47', 'captcha_mod2_42', 'captcha_mod2_50', 'captcha_mod2_48', 'captcha_mod2_43', 'captcha_mod2_46', 'captcha_mod2_39', '7zax', '0ws3', 'a82l', '0k59', 'j0on', 'bh6r', '2o7w', 'h94e', '03a1', '3w50', 'gym0', 'ka8r', '8kg7', 'fa82', '7v0c', '2a8g', '8c2u', '98dr', '8top', 'hgh5', 'nx4k', 'fav1', '3t73', 'l71n', '2cix', '4xrg', 'ma8a', 'vj9y', '01se', '8wtl', '9x1i', 'jjx3', 'j2j6', '2lfc', 'b5kj', 'j1p5', 'y3pw', 'cjo8', '89at', '6p7b', 'sk0r', 'f6j1', 'hb5j', 'dqq1', '124a', 'd1ag', 'akg7', 'ns91', 'i6lm', 'h5n3', 'yu23', 'gde8', '0uai', '65ya', '5fkv', '8s2c', 'ns7h', 'n7ky', '1hnq', 'abn1', '262b', 'pn99', '0lbv', 'aeg5', 'k931', '1y13', 'vhr6', '0b3b', '6kuf', 'h8je', 'oel8', 'j7no', '70uh', '1odm', '28mj', 'nfj8', '9tft', '8m5c', '9kmq', 'd136', '2m6c', '18si', 'fm8l', 'hlx9', 'b6ii', 'o9q6', 'bjr1', 'gz7y', '4htx', '4v8d', 'b4u1', 'ky76', 'oa21', '7owi', 'bj6n', 'gv8n', '4igu', 'f2e1', '22pq', '7yuf']\n"
          ],
          "name": "stdout"
        }
      ]
    },
    {
      "cell_type": "code",
      "metadata": {
        "colab": {
          "base_uri": "https://localhost:8080/",
          "height": 67
        },
        "id": "DxP4Nht1ErhD",
        "outputId": "f51d399d-edd8-45c8-e554-d81c6eb9ed4d"
      },
      "source": [
        "from google.colab.patches import cv2_imshow\n",
        "cv2_imshow( train_data[1][0],)\n",
        "cv2.waitKey(0)\n",
        "cv2.destroyAllWindows()"
      ],
      "execution_count": null,
      "outputs": [
        {
          "output_type": "display_data",
          "data": {
            "image/png": "[encoded data removed]",
            "text/plain": [
              "<PIL.Image.Image image mode=L size=200x50 at 0x7FC561458FD0>"
            ]
          },
          "metadata": {
            "tags": []
          }
        }
      ]
    },
    {
      "cell_type": "code",
      "metadata": {
        "id": "Wi78Yq_qr12X",
        "colab": {
          "base_uri": "https://localhost:8080/"
        },
        "outputId": "2229fd54-22e4-4895-a06f-e224857d66a3"
      },
      "source": [
        "len(train_data)"
      ],
      "execution_count": null,
      "outputs": [
        {
          "output_type": "execute_result",
          "data": {
            "text/plain": [
              "526"
            ]
          },
          "metadata": {
            "tags": []
          },
          "execution_count": 52
        }
      ]
    },
    {
      "cell_type": "code",
      "metadata": {
        "colab": {
          "base_uri": "https://localhost:8080/"
        },
        "id": "pUFb5QGN7f_m",
        "outputId": "85dc99f9-7aed-4898-82e1-62b33b24c305"
      },
      "source": [
        "len(val_data)"
      ],
      "execution_count": null,
      "outputs": [
        {
          "output_type": "execute_result",
          "data": {
            "text/plain": [
              "526"
            ]
          },
          "metadata": {
            "tags": []
          },
          "execution_count": 53
        }
      ]
    },
    {
      "cell_type": "code",
      "metadata": {
        "id": "pNWBGnIKr12X",
        "colab": {
          "base_uri": "https://localhost:8080/"
        },
        "outputId": "b512f07e-b72b-4c2c-dc3b-116d8d9e6691"
      },
      "source": [
        "print(train_data[1])"
      ],
      "execution_count": null,
      "outputs": [
        {
          "output_type": "stream",
          "text": [
            "[array([[255, 255, 255, ..., 255, 255, 255],\n",
            "       [255, 255, 255, ..., 255, 255, 255],\n",
            "       [255, 255, 255, ..., 255, 255, 255],\n",
            "       ...,\n",
            "       [255, 255, 255, ..., 255, 255, 255],\n",
            "       [255, 255, 255, ..., 255, 255, 255],\n",
            "       [255, 255, 255, ..., 255, 255, 255]], dtype=uint8), 'treated_1']\n"
          ],
          "name": "stdout"
        }
      ]
    },
    {
      "cell_type": "code",
      "metadata": {
        "id": "Eqkwr0xFr12Y",
        "colab": {
          "base_uri": "https://localhost:8080/"
        },
        "outputId": "128e30d3-c631-4d29-97a4-303200c56ff7"
      },
      "source": [
        "fileName = \"captchatrainSmall.npy\"\n",
        "if os.path.exists(fileName):\n",
        "    os.remove(fileName)\n",
        "with open(fileName, \"wb\") as f:\n",
        "    np.save(f, train_data)"
      ],
      "execution_count": null,
      "outputs": [
        {
          "output_type": "stream",
          "text": [
            "/usr/local/lib/python3.7/dist-packages/numpy/core/_asarray.py:136: VisibleDeprecationWarning: Creating an ndarray from ragged nested sequences (which is a list-or-tuple of lists-or-tuples-or ndarrays with different lengths or shapes) is deprecated. If you meant to do this, you must specify 'dtype=object' when creating the ndarray\n",
            "  return array(a, dtype, copy=False, order=order, subok=True)\n"
          ],
          "name": "stderr"
        }
      ]
    },
    {
      "cell_type": "code",
      "metadata": {
        "id": "xygtm2rQr12Z",
        "colab": {
          "base_uri": "https://localhost:8080/",
          "height": 67
        },
        "outputId": "1f1ede4c-e23b-4975-f2cb-b9f1b0c128f6"
      },
      "source": [
        "from google.colab.patches import cv2_imshow\n",
        "with open(fileName, \"rb\") as f:\n",
        "    test = np.load(f, allow_pickle=True)\n",
        "cv2_imshow(test[0][0])\n",
        "cv2.waitKey(0)\n",
        "cv2.destroyAllWindows()"
      ],
      "execution_count": null,
      "outputs": [
        {
          "output_type": "display_data",
          "data": {
            "image/png": "[encoded data removed]",
            "text/plain": [
              "<PIL.Image.Image image mode=L size=200x50 at 0x7FC561473ED0>"
            ]
          },
          "metadata": {
            "tags": []
          }
        }
      ]
    },
    {
      "cell_type": "code",
      "metadata": {
        "colab": {
          "base_uri": "https://localhost:8080/"
        },
        "id": "NeMznASL1m4b",
        "outputId": "6061eb37-1215-4ea8-9ba2-9946ac89f244"
      },
      "source": [
        "fileName = \"captchavalidSmall.npy\"\n",
        "#Convert into Numpy array, not sure if it works for model\n",
        "val_data =np.array(val_data)\n",
        "print(val_data)\n",
        "if os.path.exists(fileName):\n",
        "    os.remove(fileName)\n",
        "with open(fileName, \"wb\") as f:\n",
        "    np.save(f, val_data)"
      ],
      "execution_count": null,
      "outputs": [
        {
          "output_type": "stream",
          "text": [
            "['7zax' '0ws3' 'a82l' '0k59' 'j0on' 'bh6r' '2o7w' 'h94e' '03a1' '3w50'\n",
            " 'gym0' 'ka8r' '8kg7' 'fa82' '7v0c' '2a8g' '8c2u' '98dr' '8top' 'hgh5'\n",
            " 'nx4k' 'fav1' '3t73' 'l71n' '2cix' '4xrg' 'ma8a' 'vj9y' '01se' '8wtl'\n",
            " '9x1i' 'jjx3' 'j2j6' '2lfc' 'b5kj' 'j1p5' 'y3pw' 'cjo8' '89at' '6p7b'\n",
            " 'sk0r' 'f6j1' 'hb5j' 'dqq1' '124a' 'd1ag' 'akg7' 'ns91' 'i6lm' 'h5n3'\n",
            " 'yu23' 'gde8' '0uai' '65ya' '5fkv' '8s2c' 'ns7h' 'n7ky' '1hnq' 'abn1'\n",
            " '262b' 'pn99' '0lbv' 'aeg5' 'k931' '1y13' 'vhr6' '0b3b' '6kuf' 'h8je'\n",
            " 'oel8' 'j7no' '70uh' '1odm' '28mj' 'nfj8' '9tft' '8m5c' '9kmq' 'd136'\n",
            " '2m6c' '18si' 'fm8l' 'hlx9' 'b6ii' 'o9q6' 'bjr1' 'gz7y' '4htx' '4v8d'\n",
            " 'b4u1' 'ky76' 'oa21' '7owi' 'bj6n' 'gv8n' '4igu' 'f2e1' '22pq' '7yuf'\n",
            " '7zax' '0ws3' 'a82l' '0k59' 'j0on' 'bh6r' '2o7w' 'h94e' '03a1' '3w50'\n",
            " 'gym0' 'ka8r' '8kg7' 'fa82' '7v0c' '2a8g' '8c2u' '98dr' '8top' 'hgh5'\n",
            " 'nx4k' 'fav1' '3t73' 'l71n' '2cix' '4xrg' 'ma8a' 'vj9y' '01se' '8wtl'\n",
            " '9x1i' 'jjx3' 'j2j6' '2lfc' 'b5kj' 'j1p5' 'y3pw' 'cjo8' '89at' '6p7b'\n",
            " 'sk0r' 'f6j1' 'hb5j' 'dqq1' '124a' 'd1ag' 'akg7' 'ns91' 'i6lm' 'h5n3'\n",
            " 'yu23' 'gde8' '0uai' '65ya' '5fkv' '8s2c' 'ns7h' 'n7ky' '1hnq' 'abn1'\n",
            " '262b' 'pn99' '0lbv' 'aeg5' 'k931' '1y13' 'vhr6' '0b3b' '6kuf' 'h8je'\n",
            " 'oel8' 'j7no' '70uh' '1odm' '28mj' 'nfj8' '9tft' '8m5c' '9kmq' 'd136'\n",
            " '2m6c' '18si' 'fm8l' 'hlx9' 'b6ii' 'o9q6' 'bjr1' 'gz7y' '4htx' '4v8d'\n",
            " 'b4u1' 'ky76' 'oa21' '7owi' 'bj6n' 'gv8n' '4igu' 'f2e1' '22pq' '7yuf'\n",
            " '7zax' '0ws3' 'a82l' '0k59' 'j0on' 'bh6r' '2o7w' 'h94e' '03a1' '3w50'\n",
            " 'gym0' 'ka8r' '8kg7' 'fa82' '7v0c' '2a8g' '8c2u' '98dr' '8top' 'hgh5'\n",
            " 'nx4k' 'fav1' '3t73' 'l71n' '2cix' '4xrg' 'ma8a' 'vj9y' '01se' '8wtl'\n",
            " '9x1i' 'jjx3' 'j2j6' '2lfc' 'b5kj' 'j1p5' 'y3pw' 'cjo8' '89at' '6p7b'\n",
            " 'sk0r' 'f6j1' 'hb5j' 'dqq1' '124a' 'd1ag' 'akg7' 'ns91' 'i6lm' 'h5n3'\n",
            " 'yu23' 'gde8' '0uai' '65ya' '5fkv' '8s2c' 'ns7h' 'n7ky' '1hnq' 'abn1'\n",
            " '262b' 'pn99' '0lbv' 'aeg5' 'k931' '1y13' 'vhr6' '0b3b' '6kuf' 'h8je'\n",
            " 'oel8' 'j7no' '70uh' '1odm' '28mj' 'nfj8' '9tft' '8m5c' '9kmq' 'd136'\n",
            " '2m6c' '18si' 'fm8l' 'hlx9' 'b6ii' 'o9q6' 'bjr1' 'gz7y' '4htx' '4v8d'\n",
            " 'b4u1' 'ky76' 'oa21' '7owi' 'bj6n' 'gv8n' '4igu' 'f2e1' '22pq' '7yuf'\n",
            " '262b' '0b3b' 'ng29' '9am0' 'z2gf' 'x4n6' 'tpy1' 'kz7j' 'x71g' 'h9nw'\n",
            " 'c5qf' 'f350' '1z7s' 'is2s' '7zax' '0ws3' 'a82l' '0k59' 'j0on' 'bh6r'\n",
            " '2o7w' 'h94e' '03a1' '3w50' 'gym0' 'ka8r' '8kg7' 'fa82' '7v0c' '2a8g'\n",
            " '8c2u' '98dr' '8top' 'hgh5' 'nx4k' 'fav1' '3t73' 'l71n' '2cix' '4xrg'\n",
            " 'ma8a' 'vj9y' '01se' '8wtl' '9x1i' 'jjx3' 'j2j6' '2lfc' 'b5kj' 'j1p5'\n",
            " 'y3pw' 'cjo8' '89at' '6p7b' 'sk0r' 'f6j1' 'hb5j' 'dqq1' '124a' 'd1ag'\n",
            " 'akg7' 'ns91' 'i6lm' 'h5n3' 'yu23' 'gde8' '0uai' '65ya' '5fkv' '8s2c'\n",
            " 'ns7h' 'n7ky' '1hnq' 'abn1' '262b' 'pn99' '0lbv' 'aeg5' 'k931' '1y13'\n",
            " 'vhr6' '0b3b' '6kuf' 'h8je' 'oel8' 'j7no' '70uh' '1odm' '28mj' 'nfj8'\n",
            " '9tft' '8m5c' '9kmq' 'd136' '2m6c' '18si' 'fm8l' 'hlx9' 'b6ii' 'o9q6'\n",
            " 'bjr1' 'gz7y' '4htx' '4v8d' 'b4u1' 'ky76' 'oa21' '7owi' 'bj6n' 'gv8n'\n",
            " '4igu' 'f2e1' '22pq' '7yuf' 'captcha_mod2_41' 'captcha_mod2_45'\n",
            " 'captcha_mod2_44' 'captcha_mod2_40' 'captcha_mod2_49' 'captcha_mod2_47'\n",
            " 'captcha_mod2_42' 'captcha_mod2_50' 'captcha_mod2_48' 'captcha_mod2_43'\n",
            " 'captcha_mod2_46' 'captcha_mod2_39' '7zax' '0ws3' 'a82l' '0k59' 'j0on'\n",
            " 'bh6r' '2o7w' 'h94e' '03a1' '3w50' 'gym0' 'ka8r' '8kg7' 'fa82' '7v0c'\n",
            " '2a8g' '8c2u' '98dr' '8top' 'hgh5' 'nx4k' 'fav1' '3t73' 'l71n' '2cix'\n",
            " '4xrg' 'ma8a' 'vj9y' '01se' '8wtl' '9x1i' 'jjx3' 'j2j6' '2lfc' 'b5kj'\n",
            " 'j1p5' 'y3pw' 'cjo8' '89at' '6p7b' 'sk0r' 'f6j1' 'hb5j' 'dqq1' '124a'\n",
            " 'd1ag' 'akg7' 'ns91' 'i6lm' 'h5n3' 'yu23' 'gde8' '0uai' '65ya' '5fkv'\n",
            " '8s2c' 'ns7h' 'n7ky' '1hnq' 'abn1' '262b' 'pn99' '0lbv' 'aeg5' 'k931'\n",
            " '1y13' 'vhr6' '0b3b' '6kuf' 'h8je' 'oel8' 'j7no' '70uh' '1odm' '28mj'\n",
            " 'nfj8' '9tft' '8m5c' '9kmq' 'd136' '2m6c' '18si' 'fm8l' 'hlx9' 'b6ii'\n",
            " 'o9q6' 'bjr1' 'gz7y' '4htx' '4v8d' 'b4u1' 'ky76' 'oa21' '7owi' 'bj6n'\n",
            " 'gv8n' '4igu' 'f2e1' '22pq' '7yuf']\n"
          ],
          "name": "stdout"
        }
      ]
    }
  ]
}